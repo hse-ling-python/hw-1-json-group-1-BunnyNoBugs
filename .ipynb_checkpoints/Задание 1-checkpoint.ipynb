{
 "cells": [
  {
   "cell_type": "markdown",
   "metadata": {},
   "source": [
    "# Задание 1"
   ]
  },
  {
   "cell_type": "code",
   "execution_count": 23,
   "metadata": {},
   "outputs": [],
   "source": [
    "# импортируем твиты\n",
    "import json\n",
    "from pprint import pprint\n",
    "\n",
    "twitter = []\n",
    "for line in open('hw_3_twitter.json'):\n",
    "    twitter.append(json.loads(line))"
   ]
  },
  {
   "cell_type": "code",
   "execution_count": 24,
   "metadata": {},
   "outputs": [
    {
     "name": "stdout",
     "output_type": "stream",
     "text": [
      "Количество твитов: 2556\n"
     ]
    }
   ],
   "source": [
    "# узнаем количество твитов\n",
    "print('Количество твитов: {number}'.format(number=len(twitter)))"
   ]
  },
  {
   "cell_type": "code",
   "execution_count": 25,
   "metadata": {
    "scrolled": false
   },
   "outputs": [
    {
     "name": "stdout",
     "output_type": "stream",
     "text": [
      "85.84% твитов составляют неудаленные записи\n"
     ]
    }
   ],
   "source": [
    "# узнаем, сколько неудаленных твитов\n",
    "ok = 0\n",
    "for tweet in twitter:\n",
    "    if len(tweet) > 1:\n",
    "        ok += 1\n",
    "print('{percent}% твитов составляют неудаленные записи'.format(percent=round(ok/len(twitter)*100, 2)))"
   ]
  },
  {
   "cell_type": "code",
   "execution_count": 26,
   "metadata": {
    "scrolled": true
   },
   "outputs": [
    {
     "name": "stdout",
     "output_type": "stream",
     "text": [
      "Топ-10 самых популярных языков твитов: en ja es ko th ar und in pt fr\n"
     ]
    }
   ],
   "source": [
    "# узнаем, каковы самые популярные языки\n",
    "from collections import Counter\n",
    "\n",
    "languages = []\n",
    "for tweet in twitter:\n",
    "    if len(tweet) > 1:\n",
    "        languages.append(tweet['lang'])\n",
    "languages = Counter(languages).most_common(10)\n",
    "print('Топ-10 самых популярных языков твитов: {most_popular}'.format(most_popular=' '.join([x[0] for x in languages])))"
   ]
  },
  {
   "cell_type": "code",
   "execution_count": 27,
   "metadata": {},
   "outputs": [
    {
     "name": "stdout",
     "output_type": "stream",
     "text": [
      "25 пользователей имеют больше одного твита\n"
     ]
    }
   ],
   "source": [
    "# узнаем, сколько пользователей имеют больше одного твита\n",
    "users = []\n",
    "active_users = []\n",
    "for tweet in twitter:\n",
    "    if len(tweet) > 1:\n",
    "        user_id = (tweet['user']['id'])\n",
    "        if user_id in users and id not in active_users:\n",
    "            active_users.append(user_id)\n",
    "        users.append(user_id)\n",
    "print('{active_users_number} пользователей имеют больше одного твита'.format(active_users_number=len(active_users)))"
   ]
  },
  {
   "cell_type": "code",
   "execution_count": 28,
   "metadata": {},
   "outputs": [
    {
     "name": "stdout",
     "output_type": "stream",
     "text": [
      "Топ-20 самых популярных хэштегов: BTS, 방탄소년단, AMAs, 人気投票ガチャ, 태형, 뷔, BTSinChicago, BTSLoveYourselfTour, 오늘의방탄, PledgeForSwachhBharat, MPN, PCAs, V, 시카고1회차공연, เป๊กผลิตโชค, JIMIN, running, NCT, 지민, WajahmuPlastik\n"
     ]
    }
   ],
   "source": [
    "# узнаем 20 самых популярных хэштегов\n",
    "hashtags = []\n",
    "for tweet in twitter:\n",
    "    if len(tweet) > 1:\n",
    "        if tweet['entities']['hashtags']:\n",
    "            for hashtag in tweet['entities']['hashtags']:\n",
    "                hashtags.append(hashtag['text'])\n",
    "print('Топ-20 самых популярных хэштегов: {top_twenty_hashtags}'.format(\n",
    "    top_twenty_hashtags=', '.join([x[0] for x in Counter(hashtags).most_common(20)])))"
   ]
  },
  {
   "cell_type": "code",
   "execution_count": 29,
   "metadata": {},
   "outputs": [
    {
     "name": "stdout",
     "output_type": "stream",
     "text": [
      "Топ-10 самых частых слов в твитах на английском языке: the, to, a, i, and, is, you, of, it, in\n"
     ]
    }
   ],
   "source": [
    "# составим частотный словарь английских твитов. Он находится в переменной frequency_dictionary. \n",
    "# узнаем, какие 10 слов чаще всего появляются в английских твитах\n",
    "from string import punctuation\n",
    "\n",
    "preprocessed_twitter = []\n",
    "for tweet in twitter:\n",
    "    if len(tweet) > 1 and tweet['lang'] == 'en' and 'retweeted_status' not in tweet:\n",
    "        if tweet['truncated']:\n",
    "            preprocessed_twitter.append(\n",
    "                [x.strip(punctuation) for x in tweet['extended_tweet']['full_text'].lower().split()])\n",
    "        else:\n",
    "            preprocessed_twitter.append([x.strip(punctuation) for x in tweet['text'].lower().split()])\n",
    "frequency_dictionary = Counter([word for tweet in preprocessed_twitter for word in tweet])\n",
    "print('Топ-10 самых частых слов в твитах на английском языке: {top_ten_words}'.format(\n",
    "    top_ten_words=', '.join([word[0] for word in frequency_dictionary.most_common(10)])))"
   ]
  },
  {
   "cell_type": "code",
   "execution_count": 30,
   "metadata": {},
   "outputs": [
    {
     "name": "stdout",
     "output_type": "stream",
     "text": [
      "Топ-10 пользователей по количеству подписчиков: Filosofía♕, FITNESS Magazine, malaysiakini.com, NYT Science, Gramática, TGRT Haber, The Sun Football ⚽, Melbourne, Australia, Roznama Express, 💞 ცųཞɠɛཞცơơɠıɛ 💞\n"
     ]
    }
   ],
   "source": [
    "# узнаем количество подписчиков у пользователей\n",
    "# количество подписчиков пользователя находится в переменной followers_numbers\n",
    "# узнаем, у каких 10 пользователей больше всего подписчиков\n",
    "followers_numbers = []\n",
    "for tweet in twitter:\n",
    "    if len(tweet) > 1:\n",
    "        if not (tweet['user']['name'], tweet['user']['followers_count']) in followers_numbers:\n",
    "            followers_numbers.append((tweet['user']['name'], tweet['user']['followers_count']))\n",
    "followers_numbers.sort(key=lambda i: i[1], reverse=True)\n",
    "print('Топ-10 пользователей по количеству подписчиков: {top_ten_followers_numbers}'.format(\n",
    "    top_ten_followers_numbers=', '.join([followers_numbers[i][0] for i in range(10)])))"
   ]
  }
 ],
 "metadata": {
  "kernelspec": {
   "display_name": "Python 3",
   "language": "python",
   "name": "python3"
  },
  "language_info": {
   "codemirror_mode": {
    "name": "ipython",
    "version": 3
   },
   "file_extension": ".py",
   "mimetype": "text/x-python",
   "name": "python",
   "nbconvert_exporter": "python",
   "pygments_lexer": "ipython3",
   "version": "3.7.3"
  }
 },
 "nbformat": 4,
 "nbformat_minor": 2
}
